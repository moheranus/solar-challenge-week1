{
 "cells": [
  {
   "cell_type": "code",
   "execution_count": null,
   "id": "60fc6e24",
   "metadata": {
    "vscode": {
     "languageId": "plaintext"
    }
   },
   "outputs": [],
   "source": [
    "import pandas as pd\n",
    "import numpy as np\n",
    "import matplotlib.pyplot as plt\n",
    "import seaborn as sns\n",
    "from scipy import stats\n",
    "import plotly.express as px\n",
    "\n",
    "# Load data\n",
    "df = pd.read_csv('data/benin-malanville.csv', parse_dates=['Timestamp'])\n",
    "\n",
    "# Summary statistics\n",
    "print(df.describe())\n",
    "print('Missing >5%:', (df.isna().sum() / len(df) * 100)[(df.isna().sum() / len(df) * 100) > 5])\n",
    "\n",
    "# Outlier detection\n",
    "key_cols = ['GHI', 'DNI', 'DHI', 'ModA', 'ModB', 'WS', 'WSgust']\n",
    "z_scores = df[key_cols].apply(stats.zscore)\n",
    "outliers = (z_scores.abs() > 3).any(axis=1)\n",
    "print(f'Outliers: {outliers.sum()}')\n",
    "\n",
    "# Clean data\n",
    "for col in key_cols:\n",
    "    df[col].fillna(df[col].median(), inplace=True)\n",
    "df_clean = df[~outliers].copy()\n",
    "df_clean.to_csv('data/benin_clean.csv', index=False)\n",
    "\n",
    "# Time series plot\n",
    "plt.figure(figsize=(12, 6))\n",
    "for col in ['GHI', 'DNI', 'DHI', 'Tamb']:\n",
    "    plt.plot(df_clean['Timestamp'], df_clean[col], label=col)\n",
    "plt.title('Solar Irradiance and Temperature')\n",
    "plt.legend()\n",
    "plt.show()"
   ]
  },
  {
   "cell_type": "code",
   "execution_count": null,
   "id": "f29e1a8c",
   "metadata": {
    "vscode": {
     "languageId": "plaintext"
    }
   },
   "outputs": [],
   "source": []
  }
 ],
 "metadata": {
  "language_info": {
   "name": "python"
  }
 },
 "nbformat": 4,
 "nbformat_minor": 5
}
